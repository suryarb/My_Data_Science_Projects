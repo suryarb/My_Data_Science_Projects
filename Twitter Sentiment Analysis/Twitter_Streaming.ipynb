{
 "cells": [
  {
   "cell_type": "markdown",
   "metadata": {},
   "source": [
    "# Twitter API & Exploratory Data Analysis"
   ]
  },
  {
   "cell_type": "markdown",
   "metadata": {},
   "source": [
    "Developed by: Surya Bhattarai\n",
    "Date: 6 January 2020\n",
    "\n",
    "This model follows the guidelines provided by the FreeCodeCamp.org available at: https://www.youtube.com/watch?v=1gQ6uG5Ujiw&t=27s\n",
    "\n",
    "Please note that this model has not gone through extensive finetuning to refine the sentimental analysis outcome."
   ]
  },
  {
   "cell_type": "markdown",
   "metadata": {},
   "source": [
    "## 1. Importing Packages"
   ]
  },
  {
   "cell_type": "code",
   "execution_count": 3,
   "metadata": {},
   "outputs": [],
   "source": [
    "from tweepy import API\n",
    "from tweepy import Cursor\n",
    "from tweepy import OAuthHandler\n",
    "from tweepy import Stream\n",
    "from tweepy.streaming import StreamListener\n",
    "from textblob import TextBlob\n",
    "from scipy import stats\n",
    "from datetime import datetime\n",
    "from pandas.tseries.offsets import MonthEnd\n",
    "from numpy.random import RandomState\n",
    "import seaborn as sns\n",
    "from scipy.stats import skew\n",
    "from scipy import stats\n",
    "from scipy.stats.stats import pearsonr\n",
    "from scipy.stats import norm\n",
    "\n",
    "import numpy as np\n",
    "import pandas as pd\n",
    "#import matplotlib as plt\n",
    "import matplotlib.pyplot as plt\n",
    "import re\n",
    "\n",
    "import sqlite3"
   ]
  },
  {
   "cell_type": "code",
   "execution_count": 4,
   "metadata": {},
   "outputs": [],
   "source": [
    "#import twitter_credentials"
   ]
  },
  {
   "cell_type": "markdown",
   "metadata": {},
   "source": [
    "## 2. Authentication Keys"
   ]
  },
  {
   "cell_type": "code",
   "execution_count": 5,
   "metadata": {},
   "outputs": [],
   "source": [
    "CONSUMER_KEY=\"\"\n",
    "CONSUMER_SECRET=\"\"\n",
    "ACCESS_TOKEN=\"\"\n",
    "ACCESS_TOKEN_SECRET=\"\""
   ]
  },
  {
   "cell_type": "markdown",
   "metadata": {},
   "source": [
    "## 3. Twitter Client"
   ]
  },
  {
   "cell_type": "code",
   "execution_count": 50,
   "metadata": {},
   "outputs": [],
   "source": [
    "class TwitterClient():\n",
    "    \n",
    "    # passing the twitter user object and defaulting to none (picks your own timeline)\n",
    "    def __init__(self, twitter_user=None):\n",
    "        self.auth = TwitterAuthenticator().authenticate_twitter_app()\n",
    "        self.twitter_client = API(self.auth)\n",
    "        \n",
    "        self.twitter_user = twitter_user\n",
    "        \n",
    "    def get_twitter_client_api(self):\n",
    "        return self.twitter_client\n",
    "    \n",
    "    def get_user_timeline_tweets(self, num_tweets):\n",
    "        tweets = []\n",
    "        \n",
    "        # passing the twitter client to get the user timeline tweets.\n",
    "        for tweet in Cursor(self.twitter_client.user_timeline, id=self.twitter_user).items(num_tweets):\n",
    "            tweets.append(tweet)\n",
    "        return tweets\n",
    "    \n",
    "    def get_friend_list(self, num_friends):\n",
    "        friend_list = []\n",
    "        for friend in Cursor(self.twitter_client.friends, id=self.twitter_user).items(num_friends):\n",
    "            friends_list.append(friend)\n",
    "        return friend_list\n",
    "    \n",
    "    def get_home_timeline_tweets(self, num_tweets):\n",
    "        home_timeline_tweets = []\n",
    "        for tweet in Cursor(self.twitter_client.home_timeline, id=self.twitter_user).items(num_tweets):\n",
    "            home_timeline_tweets.append(tweet)\n",
    "        return home_timeline_tweets"
   ]
  },
  {
   "cell_type": "code",
   "execution_count": 7,
   "metadata": {},
   "outputs": [],
   "source": [
    "### TWITTER AUTHENTICATOR ###\n",
    "\n",
    "class TwitterAuthenticator():\n",
    "    \n",
    "    def authenticate_twitter_app(self):\n",
    "                \n",
    "        auth = OAuthHandler(CONSUMER_KEY, CONSUMER_SECRET)\n",
    "        auth.set_access_token(ACCESS_TOKEN, ACCESS_TOKEN_SECRET)\n",
    "        \n",
    "        return auth"
   ]
  },
  {
   "cell_type": "markdown",
   "metadata": {},
   "source": [
    "## 4. Twitter streamer and listener"
   ]
  },
  {
   "cell_type": "code",
   "execution_count": 8,
   "metadata": {},
   "outputs": [],
   "source": [
    "### TWITTER STREAMER\n",
    "#Class for streaming and processing live tweets\n",
    "class TwitterStreamer():\n",
    "    \n",
    "    def __init__(self):\n",
    "        self.twitter_authenticator = TwitterAuthenticator()\n",
    "    \n",
    "    # this handles twitter authentication and connection to the Twitter API\n",
    "    def stream_tweets(self, fetched_tweets_filename, hash_tag_list):\n",
    "        \n",
    "        listener = TwitterListener(fetched_tweets_filename)\n",
    "        auth = self.twitter_authenticator.authenticate_twitter_app()\n",
    "        stream = Stream(auth, listener)\n",
    "        \n",
    "        # This line filter twitter stream to capture data by the keywords\n",
    "        stream.filter(track=hash_tag_list) "
   ]
  },
  {
   "cell_type": "code",
   "execution_count": 9,
   "metadata": {},
   "outputs": [],
   "source": [
    "# TWITTER STREAM LISTENER\n",
    "#This is a basic listener class that just prints received tweets to stdout\n",
    "class TwitterListener(StreamListener):\n",
    "    \n",
    "    #Object to write the tweets to a file\n",
    "    def __init__(self, fetched_tweets_filename):\n",
    "        self.fetched_tweets_filename = fetched_tweets_filename\n",
    "    \n",
    "    #Object to handle possible errors\n",
    "    def on_data(self, data):\n",
    "        try:\n",
    "            print(data)\n",
    "            #writes the error to the file\n",
    "            with open(self.fetched_tweets_filename, 'a') as tf:\n",
    "                tf.write(data)\n",
    "            return True\n",
    "        except BaseException as e:\n",
    "            print('Error on data: ', str(e))\n",
    "        return True\n",
    "            \n",
    "\n",
    "    def on_error(self, status):\n",
    "        if status ==420:\n",
    "            # Returning false on_data method in case rate limit occurs.\n",
    "            return False\n",
    "        print(status)"
   ]
  },
  {
   "cell_type": "markdown",
   "metadata": {},
   "source": [
    "## 5. Capturing tweet responses"
   ]
  },
  {
   "cell_type": "code",
   "execution_count": 10,
   "metadata": {},
   "outputs": [],
   "source": [
    "#Functionality fo ranalysing and caterogising content from tweets\n",
    "\n",
    "class TweetAnalyser():\n",
    "    \n",
    "    #clean the tweet by removing special characters and hyperlinks\n",
    "    def clean_tweet(self, tweet):\n",
    "        return ' '.join(re.sub(\"(@[A-Za-z0-9]+)|([^0-9A-Za-z \\t])|(\\w+:\\/\\/\\S+)\", \" \", tweet).split())\n",
    "    \n",
    "    # Takes the tweet and returns sentiment\n",
    "    def analyse_sentiment(self, tweet):\n",
    "        analysis = TextBlob(self.clean_tweet(tweet))\n",
    "        \n",
    "        #polarity is a sentiment matrix in TextBlob\n",
    "        if analysis.sentiment.polarity > 0: # if sentiment is positive\n",
    "            return 1\n",
    "        elif analysis.sentiment.polarity == 0: # if sentiment is neutral\n",
    "            return 0\n",
    "        else:\n",
    "            return -1 # if sentiment is negative\n",
    "    \n",
    "    def tweets_to_data_frame(self, tweets):\n",
    "        df = pd.DataFrame(data=[tweet.text for tweet in tweets], columns=['tweets'])\n",
    "        \n",
    "        df['id'] = np.array([tweet.id for tweet in tweets])\n",
    "        df['username'] = np.array([tweet.user.name for tweet in tweets])\n",
    "        df['len'] = np.array([len(tweet.text) for tweet in tweets])\n",
    "        df['datetime'] = np.array([tweet.created_at for tweet in tweets])\n",
    "        df['date'] = np.array([d.date() for d in df[\"datetime\"]])\n",
    "        df['month'] = np.array(pd.to_datetime(df['date']).dt.to_period('M'))\n",
    "        df['source'] = np.array([tweet.source for tweet in tweets])\n",
    "        df['likes'] = np.array([tweet.favorite_count for tweet in tweets])\n",
    "        df['retweets'] = np.array([tweet.retweet_count for tweet in tweets])\n",
    "        \n",
    "        return df    "
   ]
  },
  {
   "cell_type": "code",
   "execution_count": 32,
   "metadata": {},
   "outputs": [],
   "source": [
    "def get_tweets(screen_name):\n",
    "    \n",
    "    twitter_client = TwitterClient()\n",
    "    tweet_analyser = TweetAnalyser()\n",
    "    api = twitter_client.get_twitter_client_api()\n",
    "    \n",
    "    tweets = api.user_timeline(screen_name=screen_name, count=50)\n",
    "    df = tweet_analyser.tweets_to_data_frame(tweets)\n",
    "    \n",
    "    # Adding a new sentiment column and passing the analysis sentiment class on each tweet in the df\n",
    "    df['sentiment'] = np.array([tweet_analyser.analyse_sentiment(tweet) for tweet in df['tweets']])\n",
    "    df['tweet_count'] = np.array(1)\n",
    "    \n",
    "    # Aggregating data to the daily basis\n",
    "    #pd.pivot_table(df, index=[\"id\"], columns=[\"username\",\"date\"], values=[\"tweet_count\"], aggfunc=np.sum)\n",
    "    \n",
    "    return df"
   ]
  },
  {
   "cell_type": "markdown",
   "metadata": {},
   "source": [
    "## 6. Authenticating and sending screen names to twitter"
   ]
  },
  {
   "cell_type": "code",
   "execution_count": 33,
   "metadata": {},
   "outputs": [],
   "source": [
    "#authenticating and connecting to Twitter streaming API\n",
    "from pandas import DataFrame\n",
    "\n",
    "if __name__ == \"__main__\":\n",
    "    \n",
    "    user_list = [\"Optus\", \"Telstra\", \"VodafoneAU\", \"NBN_Australia\",\"Westpac\",\"CommBank\",\"ANZ_AU\",\"NAB\", \"EnergyAustralia\",\"aglenergy\",\"originenergy\",\"alintaenergy\"]\n",
    "    raw_tweets = []\n",
    "\n",
    "    for x in user_list:\n",
    "        raw_tweets.append(get_tweets(x))\n"
   ]
  },
  {
   "cell_type": "code",
   "execution_count": 34,
   "metadata": {},
   "outputs": [],
   "source": [
    "# concat the list of dataframes into one dataframe\n",
    "\n",
    "all_tweets = pd.concat(raw_tweets)"
   ]
  },
  {
   "cell_type": "code",
   "execution_count": 35,
   "metadata": {},
   "outputs": [],
   "source": [
    "# Transformation\n",
    "\n",
    "all_tweets['username'] = all_tweets['username'].str.replace('nbn™ Australia','nbn')\n",
    "all_tweets['username'] = all_tweets['username'].str.replace('Vodafone Australia','Vodafone')\n",
    "all_tweets['source'] = all_tweets['source'].str.replace('Salesforce - Social Studio','Salesforce')"
   ]
  },
  {
   "cell_type": "code",
   "execution_count": 36,
   "metadata": {},
   "outputs": [],
   "source": [
    "# Sorting by the date\n",
    "\n",
    "all_tweets = all_tweets.sort_values(by=['datetime'], ascending=False)"
   ]
  },
  {
   "cell_type": "code",
   "execution_count": 37,
   "metadata": {},
   "outputs": [],
   "source": [
    "# Recreate the index\n",
    "\n",
    "all_tweets.reset_index(drop=True, inplace=True)"
   ]
  },
  {
   "cell_type": "markdown",
   "metadata": {},
   "source": [
    "## 7. Summarising tweet data"
   ]
  },
  {
   "cell_type": "code",
   "execution_count": 38,
   "metadata": {},
   "outputs": [],
   "source": [
    "# Summarise data\n",
    "\n",
    "all_tweets_summary = all_tweets.groupby(['username', 'date'], as_index=False)['tweet_count', 'likes', 'retweets', 'sentiment'].sum()"
   ]
  },
  {
   "cell_type": "code",
   "execution_count": 39,
   "metadata": {},
   "outputs": [
    {
     "name": "stdout",
     "output_type": "stream",
     "text": [
      "          username        date  tweet_count  likes  retweets  sentiment\n",
      "0       AGL Energy  2019-11-18            2      0         2          1\n",
      "1       AGL Energy  2019-11-19            4      6         1          0\n",
      "2       AGL Energy  2019-11-21            1      0         0          1\n",
      "3       AGL Energy  2019-11-25            2     11         0          0\n",
      "4       AGL Energy  2019-11-27            2     21         2          0\n",
      "5       AGL Energy  2019-11-28            1      3         0         -1\n",
      "6       AGL Energy  2019-11-29            1      0         0          1\n",
      "7       AGL Energy  2019-12-02            2      4         1          1\n",
      "8       AGL Energy  2019-12-03            1      8         3          1\n",
      "9       AGL Energy  2019-12-04            2     11        10          1\n",
      "10      AGL Energy  2019-12-05            2      4         0          0\n",
      "11      AGL Energy  2019-12-06            2     11         1         -1\n",
      "12      AGL Energy  2019-12-09            3     12         3          1\n",
      "13      AGL Energy  2019-12-10            3      0         0         -1\n",
      "14      AGL Energy  2019-12-12            2      8         0          0\n",
      "15      AGL Energy  2019-12-13            1      0         0          1\n",
      "16      AGL Energy  2019-12-16            4     22         8         -1\n",
      "17      AGL Energy  2019-12-17            2      0         0          2\n",
      "18      AGL Energy  2019-12-19            3      7         0          3\n",
      "19      AGL Energy  2019-12-21            2     11         2          0\n",
      "20      AGL Energy  2019-12-22            1      0         0          1\n",
      "21      AGL Energy  2019-12-23            2      0         0         -1\n",
      "22      AGL Energy  2019-12-24            2     19         3          2\n",
      "23      AGL Energy  2019-12-30            1      2         0          1\n",
      "24      AGL Energy  2020-01-02            1     14         4         -1\n",
      "25      AGL Energy  2020-01-03            1      3         0         -1\n",
      "26   ANZ Australia  2019-12-25            1      0         0         -1\n",
      "27   ANZ Australia  2019-12-26            1      0         0          1\n",
      "28   ANZ Australia  2019-12-27           12      3         0          8\n",
      "29   ANZ Australia  2019-12-28            5      1         0          3\n",
      "..             ...         ...          ...    ...       ...        ...\n",
      "123         Origin  2019-12-06            1      0         0          1\n",
      "124         Origin  2019-12-09            1      0         0          1\n",
      "125         Origin  2019-12-10            1      0         0          1\n",
      "126         Origin  2019-12-16            4      0         1         -1\n",
      "127         Origin  2019-12-17            1      0         0          0\n",
      "128        Telstra  2020-01-02            1      0         0          1\n",
      "129        Telstra  2020-01-03           49      5         2         -2\n",
      "130       Vodafone  2019-12-24            2      0         0          2\n",
      "131       Vodafone  2019-12-25            1      0         0          1\n",
      "132       Vodafone  2019-12-26            7      2         0          1\n",
      "133       Vodafone  2019-12-27            4      0         0          1\n",
      "134       Vodafone  2019-12-28            2      1         0          1\n",
      "135       Vodafone  2019-12-29            1      1         0          1\n",
      "136       Vodafone  2019-12-30            6      0         0          3\n",
      "137       Vodafone  2019-12-31            7      0         0          3\n",
      "138       Vodafone  2020-01-01            8      0         0          5\n",
      "139       Vodafone  2020-01-02            3      0         0          2\n",
      "140       Vodafone  2020-01-03            9     18         5          3\n",
      "141   Westpac Bank  2019-12-26            2      0         0         -2\n",
      "142   Westpac Bank  2019-12-27           12      0         0          6\n",
      "143   Westpac Bank  2019-12-28            2      1         0         -1\n",
      "144   Westpac Bank  2019-12-29            6      0         0          2\n",
      "145   Westpac Bank  2019-12-30            6      1         0          2\n",
      "146   Westpac Bank  2019-12-31            6     10         4          0\n",
      "147   Westpac Bank  2020-01-01            5      0         0          0\n",
      "148   Westpac Bank  2020-01-02            7      2         0          3\n",
      "149   Westpac Bank  2020-01-03            4      0         0          1\n",
      "150            nbn  2020-01-01           12      1         0          6\n",
      "151            nbn  2020-01-02           13    201        73          1\n",
      "152            nbn  2020-01-03           25      3         0          3\n",
      "\n",
      "[153 rows x 6 columns]\n"
     ]
    }
   ],
   "source": [
    "print(all_tweets_summary)"
   ]
  },
  {
   "cell_type": "code",
   "execution_count": 40,
   "metadata": {},
   "outputs": [
    {
     "name": "stdout",
     "output_type": "stream",
     "text": [
      "<class 'pandas.core.frame.DataFrame'>\n"
     ]
    }
   ],
   "source": [
    "print(type(all_tweets_summary))"
   ]
  },
  {
   "cell_type": "markdown",
   "metadata": {},
   "source": [
    "## 8. Preparing train and test data"
   ]
  },
  {
   "cell_type": "code",
   "execution_count": 51,
   "metadata": {},
   "outputs": [],
   "source": [
    "# Preparing train and test data\n",
    "\n",
    "rng = RandomState()\n",
    "\n",
    "train = pd.DataFrame(all_tweets_summary.sample(frac=0.9, random_state=rng))\n",
    "test = pd.DataFrame(all_tweets_summary.loc[~all_tweets_summary.index.isin(train.index)])"
   ]
  },
  {
   "cell_type": "markdown",
   "metadata": {},
   "source": [
    "## 9. Exploratory Data Analysis"
   ]
  },
  {
   "cell_type": "code",
   "execution_count": 52,
   "metadata": {},
   "outputs": [
    {
     "data": {
      "text/plain": [
       "username       object\n",
       "date           object\n",
       "tweet_count     int64\n",
       "likes           int64\n",
       "retweets        int64\n",
       "sentiment       int64\n",
       "dtype: object"
      ]
     },
     "execution_count": 52,
     "metadata": {},
     "output_type": "execute_result"
    }
   ],
   "source": [
    "# Checking the data types\n",
    "train.dtypes"
   ]
  },
  {
   "cell_type": "code",
   "execution_count": 53,
   "metadata": {},
   "outputs": [
    {
     "data": {
      "text/html": [
       "<div>\n",
       "<style scoped>\n",
       "    .dataframe tbody tr th:only-of-type {\n",
       "        vertical-align: middle;\n",
       "    }\n",
       "\n",
       "    .dataframe tbody tr th {\n",
       "        vertical-align: top;\n",
       "    }\n",
       "\n",
       "    .dataframe thead th {\n",
       "        text-align: right;\n",
       "    }\n",
       "</style>\n",
       "<table border=\"1\" class=\"dataframe\">\n",
       "  <thead>\n",
       "    <tr style=\"text-align: right;\">\n",
       "      <th></th>\n",
       "      <th>tweet_count</th>\n",
       "      <th>likes</th>\n",
       "      <th>retweets</th>\n",
       "      <th>sentiment</th>\n",
       "    </tr>\n",
       "  </thead>\n",
       "  <tbody>\n",
       "    <tr>\n",
       "      <th>count</th>\n",
       "      <td>138.000000</td>\n",
       "      <td>138.000000</td>\n",
       "      <td>138.000000</td>\n",
       "      <td>138.000000</td>\n",
       "    </tr>\n",
       "    <tr>\n",
       "      <th>mean</th>\n",
       "      <td>4.007246</td>\n",
       "      <td>4.869565</td>\n",
       "      <td>1.702899</td>\n",
       "      <td>0.681159</td>\n",
       "    </tr>\n",
       "    <tr>\n",
       "      <th>std</th>\n",
       "      <td>6.281123</td>\n",
       "      <td>19.068768</td>\n",
       "      <td>7.015530</td>\n",
       "      <td>1.579917</td>\n",
       "    </tr>\n",
       "    <tr>\n",
       "      <th>min</th>\n",
       "      <td>1.000000</td>\n",
       "      <td>0.000000</td>\n",
       "      <td>0.000000</td>\n",
       "      <td>-3.000000</td>\n",
       "    </tr>\n",
       "    <tr>\n",
       "      <th>25%</th>\n",
       "      <td>1.000000</td>\n",
       "      <td>0.000000</td>\n",
       "      <td>0.000000</td>\n",
       "      <td>0.000000</td>\n",
       "    </tr>\n",
       "    <tr>\n",
       "      <th>50%</th>\n",
       "      <td>2.000000</td>\n",
       "      <td>0.000000</td>\n",
       "      <td>0.000000</td>\n",
       "      <td>1.000000</td>\n",
       "    </tr>\n",
       "    <tr>\n",
       "      <th>75%</th>\n",
       "      <td>4.000000</td>\n",
       "      <td>3.000000</td>\n",
       "      <td>0.750000</td>\n",
       "      <td>1.000000</td>\n",
       "    </tr>\n",
       "    <tr>\n",
       "      <th>max</th>\n",
       "      <td>49.000000</td>\n",
       "      <td>201.000000</td>\n",
       "      <td>73.000000</td>\n",
       "      <td>8.000000</td>\n",
       "    </tr>\n",
       "  </tbody>\n",
       "</table>\n",
       "</div>"
      ],
      "text/plain": [
       "       tweet_count       likes    retweets   sentiment\n",
       "count   138.000000  138.000000  138.000000  138.000000\n",
       "mean      4.007246    4.869565    1.702899    0.681159\n",
       "std       6.281123   19.068768    7.015530    1.579917\n",
       "min       1.000000    0.000000    0.000000   -3.000000\n",
       "25%       1.000000    0.000000    0.000000    0.000000\n",
       "50%       2.000000    0.000000    0.000000    1.000000\n",
       "75%       4.000000    3.000000    0.750000    1.000000\n",
       "max      49.000000  201.000000   73.000000    8.000000"
      ]
     },
     "execution_count": 53,
     "metadata": {},
     "output_type": "execute_result"
    }
   ],
   "source": [
    "train.describe()"
   ]
  },
  {
   "cell_type": "code",
   "execution_count": 54,
   "metadata": {},
   "outputs": [
    {
     "name": "stdout",
     "output_type": "stream",
     "text": [
      "                 tweet_count  sentiment\n",
      "username                               \n",
      "AGL Energy          0.881287   0.979796\n",
      "ANZ Australia       3.620927   2.806738\n",
      "Alinta Energy       0.879394   0.871780\n",
      "CommBank            1.414214   2.828427\n",
      "EnergyAustralia     3.090693   1.473577\n",
      "NAB                 2.733629   1.328020\n",
      "Optus              12.727922   6.363961\n",
      "Origin              1.109400   0.960769\n",
      "Telstra            33.941125   2.121320\n",
      "Vodafone            2.973961   1.316561\n",
      "Westpac Bank        2.035401   1.812654\n",
      "nbn                 8.485281   1.414214\n"
     ]
    }
   ],
   "source": [
    "company_info = pd.DataFrame(train.groupby('username')[['tweet_count', 'sentiment']].std())\n",
    "print(company_info)"
   ]
  },
  {
   "cell_type": "code",
   "execution_count": 55,
   "metadata": {},
   "outputs": [
    {
     "data": {
      "text/plain": [
       "Text(0, 0.5, 'Std Dev')"
      ]
     },
     "execution_count": 55,
     "metadata": {},
     "output_type": "execute_result"
    },
    {
     "data": {
      "image/png": "[encoded data removed]",
      "text/plain": [
       "<Figure size 432x288 with 1 Axes>"
      ]
     },
     "metadata": {
      "needs_background": "light"
     },
     "output_type": "display_data"
    }
   ],
   "source": [
    "company_info.plot.bar()\n",
    "plt.xlabel('Company')\n",
    "plt.ylabel('Std Dev')"
   ]
  },
  {
   "cell_type": "markdown",
   "metadata": {},
   "source": []
  },
  {
   "cell_type": "code",
   "execution_count": 57,
   "metadata": {},
   "outputs": [
    {
     "data": {
      "image/png": "[encoded data removed]",
      "text/plain": [
       "<Figure size 432x288 with 1 Axes>"
      ]
     },
     "metadata": {
      "needs_background": "light"
     },
     "output_type": "display_data"
    }
   ],
   "source": [
    "plt.bar(train['username'], train['tweet_count'])\n",
    "plt.xticks(rotation=90)\n",
    "plt.xlabel('Company')\n",
    "plt.ylabel('No of Tweets')\n",
    "plt.show()"
   ]
  },
  {
   "cell_type": "code",
   "execution_count": 72,
   "metadata": {},
   "outputs": [
    {
     "name": "stdout",
     "output_type": "stream",
     "text": [
      "\n",
      " mu = 1.03 and sigma = 2.11\n",
      "\n"
     ]
    },
    {
     "data": {
      "image/png": "[encoded data removed]",
      "text/plain": [
       "<Figure size 432x288 with 1 Axes>"
      ]
     },
     "metadata": {},
     "output_type": "display_data"
    },
    {
     "data": {
      "image/png": "[encoded data removed]",
      "text/plain": [
       "<Figure size 432x288 with 1 Axes>"
      ]
     },
     "metadata": {},
     "output_type": "display_data"
    },
    {
     "name": "stdout",
     "output_type": "stream",
     "text": [
      "Skewness: 1.734718\n",
      "Kurtosis: 5.431024\n"
     ]
    }
   ],
   "source": [
    "# Plot Histogram to see the distribution\n",
    "\n",
    "sns.distplot(train['sentiment'] , fit=norm);\n",
    "\n",
    "# Get the fitted parameters used by the function\n",
    "(mu, sigma) = norm.fit(train['sentiment'])\n",
    "print( '\\n mu = {:.2f} and sigma = {:.2f}\\n'.format(mu, sigma))\n",
    "plt.legend(['Normal dist. ($\\mu=$ {:.2f} and $\\sigma=$ {:.2f} )'.format(mu, sigma)],\n",
    "            loc='best')\n",
    "plt.ylabel('Sentiment')\n",
    "plt.title('Sentiment Distribution')\n",
    "\n",
    "fig = plt.figure()\n",
    "res = stats.probplot(train['sentiment'], plot=plt)\n",
    "plt.show()\n",
    "\n",
    "print(\"Skewness: %f\" % train['sentiment'].skew())\n",
    "print(\"Kurtosis: %f\" % train['sentiment'].kurt())"
   ]
  },
  {
   "cell_type": "code",
   "execution_count": 49,
   "metadata": {},
   "outputs": [
    {
     "data": {
      "text/plain": [
       "Index(['username', 'date'], dtype='object')"
      ]
     },
     "execution_count": 49,
     "metadata": {},
     "output_type": "execute_result"
    }
   ],
   "source": [
    "# Checking Categorical Data\n",
    "train.select_dtypes(include=['object']).columns"
   ]
  },
  {
   "cell_type": "code",
   "execution_count": 50,
   "metadata": {},
   "outputs": [
    {
     "data": {
      "text/plain": [
       "Index(['tweet_count', 'likes', 'retweets', 'sentiment'], dtype='object')"
      ]
     },
     "execution_count": 50,
     "metadata": {},
     "output_type": "execute_result"
    }
   ],
   "source": [
    "# Checking Numerical Data\n",
    "train.select_dtypes(include=['int64','float64']).columns"
   ]
  },
  {
   "cell_type": "code",
   "execution_count": 51,
   "metadata": {},
   "outputs": [
    {
     "name": "stdout",
     "output_type": "stream",
     "text": [
      "Total Features:  2 categorical + 4 numerical = 6 features\n"
     ]
    }
   ],
   "source": [
    "cat = len(train.select_dtypes(include=['object']).columns)\n",
    "num = len(train.select_dtypes(include=['int64','float64']).columns)\n",
    "print('Total Features: ', cat, 'categorical', '+',\n",
    "      num, 'numerical', '=', cat+num, 'features')"
   ]
  },
  {
   "cell_type": "code",
   "execution_count": 46,
   "metadata": {},
   "outputs": [
    {
     "data": {
      "image/png": "[encoded data removed]",
      "text/plain": [
       "<Figure size 864x648 with 2 Axes>"
      ]
     },
     "metadata": {
      "needs_background": "light"
     },
     "output_type": "display_data"
    }
   ],
   "source": [
    "# Correlation Matrix Heatmap\n",
    "\n",
    "corrmat = train.corr()\n",
    "f, ax = plt.subplots(figsize=(12, 9))\n",
    "sns.heatmap(corrmat, vmax=.8, square=True);"
   ]
  },
  {
   "cell_type": "code",
   "execution_count": 55,
   "metadata": {},
   "outputs": [
    {
     "data": {
      "image/png": "[encoded data removed]",
      "text/plain": [
       "<Figure size 432x288 with 2 Axes>"
      ]
     },
     "metadata": {},
     "output_type": "display_data"
    }
   ],
   "source": [
    "# Top 10 Heatmap\n",
    "k = 10 #number of variables for heatmap\n",
    "cols = corrmat.nlargest(k, 'sentiment')['sentiment'].index\n",
    "cm = np.corrcoef(train[cols].values.T)\n",
    "sns.set(font_scale=1.25)\n",
    "hm = sns.heatmap(cm, cbar=True, annot=True, square=True, fmt='.2f', annot_kws={'size': 10}, yticklabels=cols.values, xticklabels=cols.values)\n",
    "plt.show()"
   ]
  },
  {
   "cell_type": "code",
   "execution_count": 56,
   "metadata": {},
   "outputs": [
    {
     "data": {
      "text/html": [
       "<div>\n",
       "<style scoped>\n",
       "    .dataframe tbody tr th:only-of-type {\n",
       "        vertical-align: middle;\n",
       "    }\n",
       "\n",
       "    .dataframe tbody tr th {\n",
       "        vertical-align: top;\n",
       "    }\n",
       "\n",
       "    .dataframe thead th {\n",
       "        text-align: right;\n",
       "    }\n",
       "</style>\n",
       "<table border=\"1\" class=\"dataframe\">\n",
       "  <thead>\n",
       "    <tr style=\"text-align: right;\">\n",
       "      <th></th>\n",
       "      <th>Most Correlated Features</th>\n",
       "    </tr>\n",
       "  </thead>\n",
       "  <tbody>\n",
       "    <tr>\n",
       "      <th>0</th>\n",
       "      <td>sentiment</td>\n",
       "    </tr>\n",
       "    <tr>\n",
       "      <th>1</th>\n",
       "      <td>tweet_count</td>\n",
       "    </tr>\n",
       "    <tr>\n",
       "      <th>2</th>\n",
       "      <td>likes</td>\n",
       "    </tr>\n",
       "    <tr>\n",
       "      <th>3</th>\n",
       "      <td>retweets</td>\n",
       "    </tr>\n",
       "  </tbody>\n",
       "</table>\n",
       "</div>"
      ],
      "text/plain": [
       "  Most Correlated Features\n",
       "0                sentiment\n",
       "1              tweet_count\n",
       "2                    likes\n",
       "3                 retweets"
      ]
     },
     "execution_count": 56,
     "metadata": {},
     "output_type": "execute_result"
    }
   ],
   "source": [
    "most_corr = pd.DataFrame(cols)\n",
    "most_corr.columns = ['Most Correlated Features']\n",
    "most_corr"
   ]
  },
  {
   "cell_type": "code",
   "execution_count": 92,
   "metadata": {},
   "outputs": [
    {
     "data": {
      "image/png": "[encoded data removed]",
      "text/plain": [
       "<Figure size 1000x600 with 1 Axes>"
      ]
     },
     "metadata": {},
     "output_type": "display_data"
    }
   ],
   "source": [
    "# Overall tweet count vs sentiment\n",
    "var = 'tweet_count'\n",
    "data = pd.concat([train['sentiment'], train[var]], axis=1)\n",
    "f, ax = plt.subplots(figsize=(10, 6))\n",
    "fig = sns.boxplot(x=var, y=\"sentiment\", data=data)\n",
    "fig.axis(ymin=0, ymax=15);"
   ]
  },
  {
   "cell_type": "code",
   "execution_count": null,
   "metadata": {},
   "outputs": [],
   "source": []
  }
 ],
 "metadata": {
  "kernelspec": {
   "display_name": "Python 3",
   "language": "python",
   "name": "python3"
  },
  "language_info": {
   "codemirror_mode": {
    "name": "ipython",
    "version": 3
   },
   "file_extension": ".py",
   "mimetype": "text/x-python",
   "name": "python",
   "nbconvert_exporter": "python",
   "pygments_lexer": "ipython3",
   "version": "3.7.3"
  }
 },
 "nbformat": 4,
 "nbformat_minor": 2
}
